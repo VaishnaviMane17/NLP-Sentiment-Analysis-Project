{
  "nbformat": 4,
  "nbformat_minor": 0,
  "metadata": {
    "colab": {
      "private_outputs": true,
      "provenance": []
    },
    "kernelspec": {
      "name": "python3",
      "display_name": "Python 3"
    }
  },
  "cells": [
    {
      "cell_type": "code",
      "source": [
        "!pip install -q nlu"
      ],
      "metadata": {
        "id": "eOdYgPFjkMNX"
      },
      "execution_count": null,
      "outputs": []
    },
    {
      "cell_type": "code",
      "source": [
        "!pip install -q transformers\n",
        "!pip install -q sentencepiece"
      ],
      "metadata": {
        "id": "iKQZ20OokMFB"
      },
      "execution_count": null,
      "outputs": []
    },
    {
      "cell_type": "code",
      "source": [
        "pip install googletrans==4.0.0-rc1"
      ],
      "metadata": {
        "id": "jIVUaCg-oCUR"
      },
      "execution_count": null,
      "outputs": []
    },
    {
      "cell_type": "code",
      "source": [
        "import pandas as pd\n",
        "from googletrans import Translator\n",
        "import re\n",
        "from textblob import TextBlob\n",
        "import seaborn as sns\n",
        "%matplotlib inline\n",
        "from transformers import pipeline\n",
        "from wordcloud import WordCloud\n",
        "import matplotlib.pyplot as plt\n",
        "from wordcloud import STOPWORDS\n",
        "from collections import defaultdict"
      ],
      "metadata": {
        "id": "NRulYqNDg1uN"
      },
      "execution_count": null,
      "outputs": []
    },
    {
      "cell_type": "code",
      "source": [
        "df=pd.read_csv('NLP_Project - Sheet9.csv')"
      ],
      "metadata": {
        "id": "DEKFxRfZfbdM"
      },
      "execution_count": null,
      "outputs": []
    },
    {
      "cell_type": "code",
      "source": [
        "df"
      ],
      "metadata": {
        "id": "-ItUhmeXfnB7"
      },
      "execution_count": null,
      "outputs": []
    },
    {
      "cell_type": "code",
      "source": [
        "df.dtypes"
      ],
      "metadata": {
        "id": "z4-oCyDWkap5"
      },
      "execution_count": null,
      "outputs": []
    },
    {
      "cell_type": "code",
      "source": [
        "translator = Translator()\n",
        "\n",
        "def translate_to_english(row):\n",
        "    if row['Language'] == 'Marathi':\n",
        "        translation = translator.translate(row['Article'], src='mr', dest='en')\n",
        "        return translation.text\n",
        "    elif row['Language'] == 'Telugu':\n",
        "        translation = translator.translate(row['Article'], src='te', dest='en')\n",
        "        return translation.text\n",
        "    elif row['Language'] == 'Tamil':\n",
        "        translation = translator.translate(row['Article'], src='ta', dest='en')\n",
        "        return translation.text\n",
        "    else:\n",
        "        return row['Article']\n",
        "\n",
        "df['Translated_Article'] = df.apply(translate_to_english, axis=1)"
      ],
      "metadata": {
        "id": "5ZjnrabKqd8F"
      },
      "execution_count": null,
      "outputs": []
    },
    {
      "cell_type": "code",
      "source": [
        "df"
      ],
      "metadata": {
        "id": "Z3CNnbwNqgKK"
      },
      "execution_count": null,
      "outputs": []
    },
    {
      "cell_type": "code",
      "source": [
        "def clean_text(text):\n",
        "    # Lowercase the text\n",
        "    text = text.lower()\n",
        "\n",
        "    # Remove punctuation\n",
        "    text = re.sub(r'[^\\w\\s]', '', text)\n",
        "\n",
        "    # Remove extra whitespace\n",
        "    text = re.sub(r'\\s+', ' ', text)\n",
        "    text = text.strip()\n",
        "\n",
        "    return text\n",
        "\n",
        "# Applying the clean_text function\n",
        "df['Translated_Article'] = df['Translated_Article'].apply(clean_text)\n",
        "df"
      ],
      "metadata": {
        "id": "6aYAmN747D-1"
      },
      "execution_count": null,
      "outputs": []
    },
    {
      "cell_type": "code",
      "source": [
        "df_mum=df.loc[df['City'] == 'Mumbai']\n",
        "df_mum"
      ],
      "metadata": {
        "id": "1sNz2d4pRX77"
      },
      "execution_count": null,
      "outputs": []
    },
    {
      "cell_type": "code",
      "source": [
        "def show_wordcloud(data, title = None):\n",
        "    stopwords = set(STOPWORDS)\n",
        "    stopwords.update([\"mumbai\",\"India\", \"said\", \"year\", \"say\",'maharashtra','state','climate','change','says','city','chennai','hyderabad','days','cities','telangana'])\n",
        "    wordcloud = WordCloud(\n",
        "        stopwords=stopwords,\n",
        "        background_color='black'\n",
        ").generate(\" \".join(data))\n",
        "\n",
        "    fig = plt.figure(1, figsize=(15, 15))\n",
        "    plt.axis('off')\n",
        "    if title:\n",
        "        fig.suptitle(title, fontsize=20)\n",
        "        fig.subplots_adjust(top=2.3)\n",
        "\n",
        "    plt.imshow(wordcloud)\n",
        "    plt.show()"
      ],
      "metadata": {
        "id": "510Dn63YRX1Q"
      },
      "execution_count": null,
      "outputs": []
    },
    {
      "cell_type": "code",
      "source": [
        "# Wordcloud for Articles From Mumbai.\n",
        "show_wordcloud(df_mum[\"Translated_Article\"].values)"
      ],
      "metadata": {
        "id": "6tyL0ZtVRXvU"
      },
      "execution_count": null,
      "outputs": []
    },
    {
      "cell_type": "code",
      "source": [
        "df_Chen=df.loc[df['City'] == 'Chennai']\n",
        "df_Chen"
      ],
      "metadata": {
        "id": "8O0h_o2f_7pl"
      },
      "execution_count": null,
      "outputs": []
    },
    {
      "cell_type": "code",
      "source": [
        "show_wordcloud(df_Chen[\"Translated_Article\"].values)"
      ],
      "metadata": {
        "id": "7hL7MmTl_7mP"
      },
      "execution_count": null,
      "outputs": []
    },
    {
      "cell_type": "code",
      "source": [
        "df_hyd=df.loc[df['City'] == 'Hyderabad']\n",
        "df_hyd"
      ],
      "metadata": {
        "id": "zZDOF1wFT2O9"
      },
      "execution_count": null,
      "outputs": []
    },
    {
      "cell_type": "code",
      "source": [
        "show_wordcloud(df_hyd[\"Translated_Article\"].values)"
      ],
      "metadata": {
        "id": "fngT08nuT9LK"
      },
      "execution_count": null,
      "outputs": []
    },
    {
      "cell_type": "code",
      "source": [
        "#TextBlob for polarity and subjectivity\n",
        "polarity=[]\n",
        "subjectivity=[]\n",
        "for txt in df['Translated_Article']:\n",
        "    blobSenti=TextBlob(txt)\n",
        "    polarity.append(blobSenti.sentiment.polarity)\n",
        "    subjectivity.append(blobSenti.sentiment.subjectivity)\n",
        "df['Polarity']=polarity\n",
        "df['Subjectivity']=subjectivity\n"
      ],
      "metadata": {
        "id": "WfVyLUuD2wwl"
      },
      "execution_count": null,
      "outputs": []
    },
    {
      "cell_type": "code",
      "source": [
        "df"
      ],
      "metadata": {
        "id": "Gu7AvCun3GRg"
      },
      "execution_count": null,
      "outputs": []
    },
    {
      "cell_type": "code",
      "source": [
        "plt.figure(figsize=(5,6))\n",
        "sns.boxplot(data=df, x=\"City\", y=\"Polarity\", hue=\"City\").set(title='Polarity across Cities')\n",
        "plt.show()\n",
        "\n"
      ],
      "metadata": {
        "id": "dfBp63QlLJpn"
      },
      "execution_count": null,
      "outputs": []
    },
    {
      "cell_type": "code",
      "source": [
        "plt.figure(figsize=(5,6))\n",
        "sns.boxplot(data=df, x=\"City\", y=\"Subjectivity\", hue=\"City\").set(title='Subjectivity across Cities')\n",
        "plt.show()"
      ],
      "metadata": {
        "id": "7dipshqOl3Ed"
      },
      "execution_count": null,
      "outputs": []
    },
    {
      "cell_type": "code",
      "source": [
        "classifier=pipeline(\"zero-shot-classification\")"
      ],
      "metadata": {
        "id": "Y4w9Ladc3hxH"
      },
      "execution_count": null,
      "outputs": []
    },
    {
      "cell_type": "code",
      "source": [
        "labels = ['positive', 'neutral', 'negative']\n",
        "posNeuNeg = defaultdict(list)\n",
        "\n",
        "cities = ['Mumbai', 'Hyderabad', 'Chennai']\n",
        "\n",
        "for city in cities:\n",
        "    sequence = \" \".join(df.loc[df['City'] == city]['Translated_Article'])\n",
        "    scores = classifier(sequence, labels)['scores']\n",
        "    posNeuNeg[city].append(scores)\n",
        "\n",
        "\n"
      ],
      "metadata": {
        "id": "F526uImKt-OT"
      },
      "execution_count": null,
      "outputs": []
    },
    {
      "cell_type": "code",
      "source": [
        "posNeuNeg"
      ],
      "metadata": {
        "id": "uSjeVFfEvVYx"
      },
      "execution_count": null,
      "outputs": []
    },
    {
      "cell_type": "code",
      "source": [
        "pnn = pd.DataFrame.from_dict({city: values[0] for city, values in posNeuNeg.items()}, orient='index', columns=['Positive', 'Negative', 'Neutral'])"
      ],
      "metadata": {
        "id": "ybEjlA5bwrlb"
      },
      "execution_count": null,
      "outputs": []
    },
    {
      "cell_type": "code",
      "source": [
        "pnn"
      ],
      "metadata": {
        "id": "PB6tISkAIeIn"
      },
      "execution_count": null,
      "outputs": []
    },
    {
      "cell_type": "code",
      "source": [
        "pnn.plot(kind='bar', rot=0, figsize=(10, 6), colormap='viridis')\n",
        "plt.title('Positive, Negative and Neutral Scores by City')\n",
        "plt.ylabel('Sentiment Score')\n",
        "plt.xlabel('City')\n",
        "plt.show()"
      ],
      "metadata": {
        "id": "VnaPAZfPqsGD"
      },
      "execution_count": null,
      "outputs": []
    },
    {
      "cell_type": "code",
      "source": [
        "labels=['angry','fear','happy','sad','surprise']\n",
        "emotions=defaultdict(list)\n",
        "\n",
        "\n",
        "for city in cities:\n",
        "    sequence = \" \".join(df.loc[df['City'] == city]['Translated_Article'])\n",
        "    scores = classifier(sequence, labels)['scores']\n",
        "    emotions[city].append(scores)\n",
        "\n"
      ],
      "metadata": {
        "id": "gJjqUqRT3SLc"
      },
      "execution_count": null,
      "outputs": []
    },
    {
      "cell_type": "code",
      "source": [
        "emotions"
      ],
      "metadata": {
        "id": "6SVZXhHwvgnu"
      },
      "execution_count": null,
      "outputs": []
    },
    {
      "cell_type": "code",
      "source": [
        "emo = pd.DataFrame.from_dict({city: values[0] for city, values in emotions.items()}, orient='index', columns=['angry','fear','happy','sad','surprise'])"
      ],
      "metadata": {
        "id": "06kn8x_f3ySs"
      },
      "execution_count": null,
      "outputs": []
    },
    {
      "cell_type": "code",
      "source": [
        "emo"
      ],
      "metadata": {
        "id": "LiO7bNkM6PAR"
      },
      "execution_count": null,
      "outputs": []
    },
    {
      "cell_type": "code",
      "source": [
        "# Plotting\n",
        "emo.plot(kind='bar', rot=0, figsize=(10, 6), colormap='viridis')\n",
        "plt.title('Emotion Scores by City')\n",
        "plt.ylabel('Sentiment Score')\n",
        "plt.xlabel('City')\n",
        "plt.show()"
      ],
      "metadata": {
        "id": "Zr_qQDOmqh2a"
      },
      "execution_count": null,
      "outputs": []
    },
    {
      "cell_type": "code",
      "source": [
        "labels=['Optimism','Injustice','disgust']\n",
        "intent=defaultdict(list)\n",
        "\n",
        "\n",
        "for city in cities:\n",
        "    sequence = \" \".join(df.loc[df['City'] == city]['Translated_Article'])\n",
        "    scores = classifier(sequence, labels)['scores']\n",
        "    intent[city].append(scores)\n"
      ],
      "metadata": {
        "id": "zGlSBAlE6ame"
      },
      "execution_count": null,
      "outputs": []
    },
    {
      "cell_type": "code",
      "source": [
        "intt = pd.DataFrame.from_dict({city: values[0] for city, values in intent.items()}, orient='index', columns=labels)"
      ],
      "metadata": {
        "id": "4udy7azB_rtw"
      },
      "execution_count": null,
      "outputs": []
    },
    {
      "cell_type": "code",
      "source": [
        "intt"
      ],
      "metadata": {
        "id": "sUq-aY6q_y2E"
      },
      "execution_count": null,
      "outputs": []
    },
    {
      "cell_type": "code",
      "source": [
        "# Plotting\n",
        "intt.plot(kind='bar', rot=0, figsize=(10, 6), colormap='viridis')\n",
        "plt.title('Intent Scores by City')\n",
        "plt.ylabel('Sentiment Score')\n",
        "plt.xlabel('City')\n",
        "plt.show()"
      ],
      "metadata": {
        "id": "a1GE28lipsdA"
      },
      "execution_count": null,
      "outputs": []
    },
    {
      "cell_type": "code",
      "source": [
        "\n",
        "labels=['Cause','Impact','Mitigation','Adaption']\n",
        "aspect=defaultdict(list)\n",
        "\n",
        "\n",
        "for city in cities:\n",
        "    sequence = \" \".join(df.loc[df['City'] == city]['Translated_Article'])\n",
        "    scores = classifier(sequence, labels)['scores']\n",
        "    aspect[city].append(scores)"
      ],
      "metadata": {
        "id": "61-QbisGEz1w"
      },
      "execution_count": null,
      "outputs": []
    },
    {
      "cell_type": "code",
      "source": [
        "asp = pd.DataFrame.from_dict({city: values[0] for city, values in aspect.items()}, orient='index', columns=labels)"
      ],
      "metadata": {
        "id": "hr1drLe3Rahs"
      },
      "execution_count": null,
      "outputs": []
    },
    {
      "cell_type": "code",
      "source": [
        "asp"
      ],
      "metadata": {
        "id": "6ndVqIgVRfca"
      },
      "execution_count": null,
      "outputs": []
    },
    {
      "cell_type": "code",
      "source": [
        "asp.plot(kind='bar', rot=0, figsize=(10, 6), colormap='viridis')\n",
        "plt.title('Aspect Scores by City')\n",
        "plt.ylabel('Sentiment Score')\n",
        "plt.xlabel('City')\n",
        "plt.show()"
      ],
      "metadata": {
        "id": "IuykSdp8WD7i"
      },
      "execution_count": null,
      "outputs": []
    },
    {
      "cell_type": "code",
      "source": [
        "labels=['Informed','Uninformed','Misinformed']\n",
        "awarness=defaultdict(list)\n",
        "\n",
        "\n",
        "for city in cities:\n",
        "    sequence = \" \".join(df.loc[df['City'] == city]['Translated_Article'])\n",
        "    scores = classifier(sequence, labels)['scores']\n",
        "    awarness[city].append(scores)"
      ],
      "metadata": {
        "id": "PIOckE_mLt7D"
      },
      "execution_count": null,
      "outputs": []
    },
    {
      "cell_type": "code",
      "source": [
        "awar = pd.DataFrame.from_dict({city: values[0] for city, values in awarness.items()}, orient='index', columns=labels)"
      ],
      "metadata": {
        "id": "c1rpP3R3Lt4g"
      },
      "execution_count": null,
      "outputs": []
    },
    {
      "cell_type": "code",
      "source": [
        "awar.plot(kind='bar', rot=0, figsize=(10, 6), colormap='viridis')\n",
        "plt.title('Awarness Scores by City')\n",
        "plt.ylabel('Sentiment Score')\n",
        "plt.xlabel('City')\n",
        "plt.show()"
      ],
      "metadata": {
        "id": "W2Bd8kvsLt1y"
      },
      "execution_count": null,
      "outputs": []
    },
    {
      "cell_type": "code",
      "source": [
        "labels=['Liberal','Conservative']\n",
        "ideology=defaultdict(list)\n",
        "\n",
        "\n",
        "for city in cities:\n",
        "    sequence = \" \".join(df.loc[df['City'] == city]['Translated_Article'])\n",
        "    scores = classifier(sequence, labels)['scores']\n",
        "    ideology[city].append(scores)"
      ],
      "metadata": {
        "id": "fBAzHX8ULtTL"
      },
      "execution_count": null,
      "outputs": []
    },
    {
      "cell_type": "code",
      "source": [
        "ideology"
      ],
      "metadata": {
        "id": "e-eDoV9lnOPE"
      },
      "execution_count": null,
      "outputs": []
    },
    {
      "cell_type": "code",
      "source": [
        "idg = pd.DataFrame.from_dict({city: values[0] for city, values in ideology.items()}, orient='index', columns=labels)"
      ],
      "metadata": {
        "id": "BdSNveFyfpD4"
      },
      "execution_count": null,
      "outputs": []
    },
    {
      "cell_type": "code",
      "source": [
        "idg"
      ],
      "metadata": {
        "id": "uppStiRRfpAO"
      },
      "execution_count": null,
      "outputs": []
    },
    {
      "cell_type": "code",
      "source": [
        "idg.plot(kind='bar', rot=0, figsize=(10, 6), colormap='viridis')\n",
        "plt.title('Sentiment Scores by City')\n",
        "plt.ylabel('Sentiment Score')\n",
        "plt.xlabel('City')\n",
        "plt.show()"
      ],
      "metadata": {
        "id": "2gnZAKwCfo3g"
      },
      "execution_count": null,
      "outputs": []
    },
    {
      "cell_type": "code",
      "source": [
        "fig, axes = plt.subplots(nrows=2, ncols=2, figsize=(15, 12))\n",
        "\n",
        "pnn.plot(ax=axes[0, 0],kind='bar', rot=0, colormap='viridis')\n",
        "axes[0, 0].set_title('PosNegNeu')\n",
        "\n",
        "emo.plot(ax=axes[0, 1],kind='bar', rot=0, colormap='viridis')\n",
        "axes[0, 1].set_title('Emotions')\n",
        "\n",
        "\n",
        "intt.plot(ax=axes[1, 0],kind='bar', rot=0, colormap='viridis')\n",
        "axes[1, 0].set_title('Intent')\n",
        "\n",
        "asp.plot(ax=axes[1, 1],kind='bar', rot=0, colormap='viridis')\n",
        "axes[1, 1].set_title('Aspect')\n",
        "\n",
        "plt.tight_layout()\n",
        "\n",
        "plt.show()"
      ],
      "metadata": {
        "id": "JZ43TfDRWm55"
      },
      "execution_count": null,
      "outputs": []
    },
    {
      "cell_type": "code",
      "source": [
        "fig, axes = plt.subplots(nrows=1, ncols=2, figsize=(12,7))  # Define 1 row and 2 columns of subplots\n",
        "\n",
        "awar.plot(ax=axes[0], kind='bar', rot=0, colormap='viridis')\n",
        "axes[0].set_title('Awareness')\n",
        "\n",
        "idg.plot(ax=axes[1], kind='bar', rot=0, colormap='viridis')\n",
        "axes[1].set_title('Ideology')\n",
        "\n",
        "plt.tight_layout()\n",
        "\n",
        "plt.show()"
      ],
      "metadata": {
        "id": "9K7y_5TatypH"
      },
      "execution_count": null,
      "outputs": []
    },
    {
      "cell_type": "markdown",
      "source": [
        "#Non Parametric Test ( Kruskal-Wallis H test )"
      ],
      "metadata": {
        "id": "BDnKHuwFL2h-"
      }
    },
    {
      "cell_type": "code",
      "source": [
        "Final=pd.concat([pnn,emo,intt,asp,awar,idg], axis=1).T"
      ],
      "metadata": {
        "id": "VPTcOysIINMl"
      },
      "execution_count": null,
      "outputs": []
    },
    {
      "cell_type": "code",
      "source": [
        "Final"
      ],
      "metadata": {
        "id": "cQtVgo3jJdpz"
      },
      "execution_count": null,
      "outputs": []
    },
    {
      "cell_type": "code",
      "source": [
        "Final.describe()"
      ],
      "metadata": {
        "id": "ftS11lZSJlyU"
      },
      "execution_count": null,
      "outputs": []
    },
    {
      "cell_type": "code",
      "source": [
        "import scipy.stats as stats\n",
        "\n",
        "# Perform the Kruskal-Wallis H test\n",
        "statistic, p_value = stats.kruskal(Final['Mumbai'],Final['Hyderabad'], Final['Chennai'])\n",
        "\n",
        "# Output the results\n",
        "print(\"Kruskal-Wallis H Test:\")\n",
        "print(\"H-statistic =\", statistic)\n",
        "print(\"P-value =\", p_value)\n",
        "\n",
        "# Check for statistical significance\n",
        "alpha = 0.05\n",
        "if p_value < alpha:\n",
        "    print(\"The differences between groups are statistically significant.\")\n",
        "else:\n",
        "    print(\"No significant differences between groups were found.\")\n"
      ],
      "metadata": {
        "id": "7J-XKIiuJ1hv"
      },
      "execution_count": null,
      "outputs": []
    }
  ]
}